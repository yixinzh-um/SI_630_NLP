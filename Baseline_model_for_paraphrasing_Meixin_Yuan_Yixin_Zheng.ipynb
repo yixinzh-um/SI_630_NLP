{
 "cells": [
  {
   "cell_type": "code",
   "execution_count": null,
   "metadata": {
    "colab": {
     "base_uri": "https://localhost:8080/"
    },
    "id": "mP0CF1Vm_kq4",
    "outputId": "5651b447-c31f-46cd-a71b-3c57d2c99683"
   },
   "outputs": [
    {
     "name": "stdout",
     "output_type": "stream",
     "text": [
      "Mounted at /content/drive\n",
      "/content/drive/Shared drives/SI630\n"
     ]
    }
   ],
   "source": [
    "from google.colab import drive\n",
    "drive.mount('/content/drive')\n",
    "%cd '/content/drive/Shared drives/SI630'"
   ]
  },
  {
   "cell_type": "code",
   "execution_count": null,
   "metadata": {
    "id": "jXfQ9WECCr4V"
   },
   "outputs": [],
   "source": [
    "!pip install simpletransformers"
   ]
  },
  {
   "cell_type": "code",
   "execution_count": null,
   "metadata": {
    "id": "Z0rs8k6GMpSS"
   },
   "outputs": [],
   "source": [
    "import warnings\n",
    "\n",
    "import pandas as pd\n",
    "\n",
    "def load_data(\n",
    "    file_path, input_text_column, target_text_column, label_column, keep_label=1\n",
    "):\n",
    "    df = pd.read_csv(file_path, sep=\"\\t\", error_bad_lines=False)\n",
    "    df = df.loc[df[label_column] == keep_label]\n",
    "    df = df.rename(\n",
    "        columns={input_text_column: \"input_text\", target_text_column: \"target_text\"}\n",
    "    )\n",
    "    df = df[[\"input_text\", \"target_text\"]]\n",
    "    df[\"prefix\"] = \"paraphrase\"\n",
    "\n",
    "    return df\n",
    "\n",
    "\n",
    "def clean_unnecessary_spaces(out_string):\n",
    "    if not isinstance(out_string, str):\n",
    "        warnings.warn(f\">>> {out_string} <<< is not a string.\")\n",
    "        out_string = str(out_string)\n",
    "    out_string = (\n",
    "        out_string.replace(\" .\", \".\")\n",
    "        .replace(\" ?\", \"?\")\n",
    "        .replace(\" !\", \"!\")\n",
    "        .replace(\" ,\", \",\")\n",
    "        .replace(\" ' \", \"'\")\n",
    "        .replace(\" n't\", \"n't\")\n",
    "        .replace(\" 'm\", \"'m\")\n",
    "        .replace(\" 's\", \"'s\")\n",
    "        .replace(\" 've\", \"'ve\")\n",
    "        .replace(\" 're\", \"'re\")\n",
    "    )\n",
    "    return out_string"
   ]
  },
  {
   "cell_type": "code",
   "execution_count": null,
   "metadata": {
    "id": "_9ZcnosgKT5t"
   },
   "outputs": [],
   "source": [
    "import os\n",
    "from datetime import datetime\n",
    "import logging\n",
    "import math\n",
    "import pandas as pd\n",
    "from sklearn.model_selection import train_test_split\n",
    "from simpletransformers.seq2seq import Seq2SeqModel, Seq2SeqArgs"
   ]
  },
  {
   "cell_type": "code",
   "execution_count": null,
   "metadata": {
    "colab": {
     "base_uri": "https://localhost:8080/"
    },
    "id": "6ZhpeiWUtgV7",
    "outputId": "b0d0bc54-8c3f-4792-9b56-960a9240b2ce"
   },
   "outputs": [
    {
     "name": "stderr",
     "output_type": "stream",
     "text": [
      "/usr/local/lib/python3.7/dist-packages/ipykernel_launcher.py:24: SettingWithCopyWarning: \n",
      "A value is trying to be set on a copy of a slice from a DataFrame.\n",
      "Try using .loc[row_indexer,col_indexer] = value instead\n",
      "\n",
      "See the caveats in the documentation: https://pandas.pydata.org/pandas-docs/stable/user_guide/indexing.html#returning-a-view-versus-a-copy\n"
     ]
    }
   ],
   "source": [
    "# Google Data\n",
    "train_df = pd.read_csv(\"data/train.tsv\", sep=\"\\t\").astype(str)\n",
    "eval_df = pd.read_csv(\"data/dev.tsv\", sep=\"\\t\").astype(str)\n",
    "test_df = pd.read_csv(\"data/test.tsv\", sep=\"\\t\").astype(str)\n",
    "\n",
    "train_df = train_df.loc[train_df[\"label\"] == \"1\"]\n",
    "eval_df = eval_df.loc[eval_df[\"label\"] == \"1\"]\n",
    "test_df = test_df.loc[test_df[\"label\"] == \"1\"]\n",
    "\n",
    "train_df = train_df.rename(\n",
    "    columns={\"sentence1\": \"input_text\", \"sentence2\": \"target_text\"}\n",
    ")\n",
    "eval_df = eval_df.rename(\n",
    "    columns={\"sentence1\": \"input_text\", \"sentence2\": \"target_text\"}\n",
    ")\n",
    "test_df = test_df.rename(\n",
    "    columns={\"sentence1\": \"input_text\", \"sentence2\": \"target_text\"}\n",
    ")\n",
    "\n",
    "train_df = train_df[[\"input_text\", \"target_text\"]]\n",
    "eval_df = eval_df[[\"input_text\", \"target_text\"]]\n",
    "test_df = test_df[[\"input_text\", \"target_text\"]]\n",
    "\n",
    "train_df[\"prefix\"] = \"paraphrase\"\n",
    "eval_df[\"prefix\"] = \"paraphrase\"\n",
    "test_df[\"prefix\"] = \"paraphrase\""
   ]
  },
  {
   "cell_type": "markdown",
   "metadata": {
    "id": "iOpm_y33ZE6f"
   },
   "source": [
    "# Baseline Model"
   ]
  },
  {
   "cell_type": "code",
   "execution_count": null,
   "metadata": {
    "colab": {
     "base_uri": "https://localhost:8080/",
     "height": 198
    },
    "id": "G0ZRvaZ4iwfp",
    "outputId": "ac5fcd59-7349-4f4d-8fa7-97c0b3d1ef32"
   },
   "outputs": [
    {
     "data": {
      "text/html": [
       "<div>\n",
       "<style scoped>\n",
       "    .dataframe tbody tr th:only-of-type {\n",
       "        vertical-align: middle;\n",
       "    }\n",
       "\n",
       "    .dataframe tbody tr th {\n",
       "        vertical-align: top;\n",
       "    }\n",
       "\n",
       "    .dataframe thead th {\n",
       "        text-align: right;\n",
       "    }\n",
       "</style>\n",
       "<table border=\"1\" class=\"dataframe\">\n",
       "  <thead>\n",
       "    <tr style=\"text-align: right;\">\n",
       "      <th></th>\n",
       "      <th>input_text</th>\n",
       "      <th>target_text</th>\n",
       "      <th>prefix</th>\n",
       "    </tr>\n",
       "  </thead>\n",
       "  <tbody>\n",
       "    <tr>\n",
       "      <th>1</th>\n",
       "      <td>The NBA season of 1975 -- 76 was the 30th seas...</td>\n",
       "      <td>The 1975 -- 76 season of the National Basketba...</td>\n",
       "      <td>paraphrase</td>\n",
       "    </tr>\n",
       "    <tr>\n",
       "      <th>3</th>\n",
       "      <td>When comparable rates of flow can be maintaine...</td>\n",
       "      <td>The results are high when comparable flow rate...</td>\n",
       "      <td>paraphrase</td>\n",
       "    </tr>\n",
       "    <tr>\n",
       "      <th>4</th>\n",
       "      <td>It is the seat of Zerendi District in Akmola R...</td>\n",
       "      <td>It is the seat of the district of Zerendi in A...</td>\n",
       "      <td>paraphrase</td>\n",
       "    </tr>\n",
       "    <tr>\n",
       "      <th>5</th>\n",
       "      <td>William Henry Henry Harman was born on 17 Febr...</td>\n",
       "      <td>William Henry Harman was born in Waynesboro , ...</td>\n",
       "      <td>paraphrase</td>\n",
       "    </tr>\n",
       "    <tr>\n",
       "      <th>7</th>\n",
       "      <td>With a discrete amount of probabilities Formul...</td>\n",
       "      <td>Given a discrete set of probabilities formula ...</td>\n",
       "      <td>paraphrase</td>\n",
       "    </tr>\n",
       "  </tbody>\n",
       "</table>\n",
       "</div>"
      ],
      "text/plain": [
       "                                          input_text  ...      prefix\n",
       "1  The NBA season of 1975 -- 76 was the 30th seas...  ...  paraphrase\n",
       "3  When comparable rates of flow can be maintaine...  ...  paraphrase\n",
       "4  It is the seat of Zerendi District in Akmola R...  ...  paraphrase\n",
       "5  William Henry Henry Harman was born on 17 Febr...  ...  paraphrase\n",
       "7  With a discrete amount of probabilities Formul...  ...  paraphrase\n",
       "\n",
       "[5 rows x 3 columns]"
      ]
     },
     "execution_count": 11,
     "metadata": {
      "tags": []
     },
     "output_type": "execute_result"
    }
   ],
   "source": [
    "train_df.head()"
   ]
  },
  {
   "cell_type": "code",
   "execution_count": null,
   "metadata": {
    "id": "a-1xo2siYMD6"
   },
   "outputs": [],
   "source": [
    "import random \n",
    "def baseline_model(input_text):\n",
    "  lst=input_text.split()\n",
    "  \n",
    "  paraphrase_lst =[]\n",
    "  for i in lst:\n",
    "    id= (random.randrange(0,len(lst)))\n",
    "    paraphrase_lst.append(lst[id])\n",
    "  paraphrase_text = ' '.join(paraphrase_lst)\n",
    "  return paraphrase_text"
   ]
  },
  {
   "cell_type": "code",
   "execution_count": null,
   "metadata": {
    "colab": {
     "base_uri": "https://localhost:8080/",
     "height": 35
    },
    "id": "dkd1WPkbZjKy",
    "outputId": "1980eb41-9139-447b-d113-73e80afc039d"
   },
   "outputs": [
    {
     "data": {
      "application/vnd.google.colaboratory.intrinsic+json": {
       "type": "string"
      },
      "text/plain": [
       "'was launched launched Larry and and Sanger. 2001, January was Jimmy on and Wikipedia 2001, on'"
      ]
     },
     "execution_count": 7,
     "metadata": {
      "tags": []
     },
     "output_type": "execute_result"
    }
   ],
   "source": [
    "baseline_model('Wikipedia was launched on January 15, 2001, and was created by Jimmy Wales and Larry Sanger.')"
   ]
  },
  {
   "cell_type": "markdown",
   "metadata": {
    "id": "wnMTfkTqZJa5"
   },
   "source": [
    "# Baseline Model Evaluation"
   ]
  },
  {
   "cell_type": "markdown",
   "metadata": {
    "id": "soC0swi5ezsj"
   },
   "source": [
    "## USE"
   ]
  },
  {
   "cell_type": "code",
   "execution_count": null,
   "metadata": {
    "id": "dQPT9emCaVaN"
   },
   "outputs": [],
   "source": [
    "# !pip install spacy_universal_sentence_encoder"
   ]
  },
  {
   "cell_type": "code",
   "execution_count": null,
   "metadata": {
    "colab": {
     "base_uri": "https://localhost:8080/"
    },
    "id": "QviDfJf1eGrj",
    "outputId": "ae090033-0896-4c24-974b-6537e5f113a4"
   },
   "outputs": [
    {
     "name": "stdout",
     "output_type": "stream",
     "text": [
      "0.7035438047688306\n"
     ]
    }
   ],
   "source": [
    "import spacy_universal_sentence_encoder\n",
    "nlp=spacy_universal_sentence_encoder.load_model('en_use_lg')\n",
    "def USE(s1, s2):\n",
    "  s1=nlp(s1)\n",
    "  s2=nlp(s2)\n",
    "  similarity = s1.similarity(s2) \n",
    "  return similarity\n",
    "use_lst=[]\n",
    "s1_lst=test_df['input_text'].tolist()[0:100]\n",
    "s2_lst=test_df['target_text'].tolist()[0:100]\n",
    "\n",
    "# para_lst = baseline_model(s1_lst)\n",
    "\n",
    "for s1,s2 in zip(s1_lst,s2_lst):\n",
    "  para_s=baseline_model(s1)\n",
    "  # s2=s2[0]\n",
    "  # print(\"Targeted:\", s2)\n",
    "  # print(\"Paraphrase:\", para_s)\n",
    "  use_lst.append(USE(s2,para_s))\n",
    "\n",
    "use_score= sum(use_lst)/len(use_lst)\n",
    "print(use_score)"
   ]
  },
  {
   "cell_type": "markdown",
   "metadata": {
    "id": "4r5CamMa_Onq"
   },
   "source": [
    "# Human Evaluation by jokes"
   ]
  },
  {
   "cell_type": "code",
   "execution_count": null,
   "metadata": {
    "id": "ivHkUBbovgji"
   },
   "outputs": [],
   "source": [
    "def paraphrase(joke):\n",
    "  # para = model.predict(joke)\n",
    "  for i in range(len(joke)):\n",
    "    para = baseline_model(joke[i])\n",
    "    print(\"Original:\",joke[i])\n",
    "    print(\"Paraphrased: \",para)"
   ]
  },
  {
   "cell_type": "code",
   "execution_count": null,
   "metadata": {
    "colab": {
     "base_uri": "https://localhost:8080/"
    },
    "id": "yz7mUVtew3Kf",
    "outputId": "c00ed5fb-c198-4c50-e3d7-ad3fd0cb6ad2"
   },
   "outputs": [
    {
     "name": "stdout",
     "output_type": "stream",
     "text": [
      "Original: A kid finds a magical lamp.He rubs the lamp, and a genie appears and says, “What is your first wish?”\n",
      "Paraphrased:  appears says, rubs wish?” magical a genie lamp.He magical is and and “What finds first genie and lamp, first genie\n",
      "Original:  The kid says, “I wish I were rich!” The genie replies, “It is done! What is your second wish, Rich?”.\n",
      "Paraphrased:  What says, The replies, I I The What says, is “It kid genie were What kid “It What “It The\n"
     ]
    }
   ],
   "source": [
    "joke1= ['A kid finds a magical lamp.He rubs the lamp, and a genie appears and says, “What is your first wish?”',\n",
    "        ' The kid says, “I wish I were rich!” The genie replies, “It is done! What is your second wish, Rich?”.']\n",
    "paraphrase(joke1)"
   ]
  },
  {
   "cell_type": "code",
   "execution_count": null,
   "metadata": {
    "colab": {
     "base_uri": "https://localhost:8080/"
    },
    "id": "CAOYIZFBw3M4",
    "outputId": "139e0281-8bc8-449c-dde3-4692326608d3"
   },
   "outputs": [
    {
     "name": "stdout",
     "output_type": "stream",
     "text": [
      "Original: Three friends stranded on a deserted island find a magic lamp. Inside it is a genie who agrees to grant each friend one wish.\n",
      "Paraphrased:  to stranded on to a to wish. Three lamp. it grant a it is island Three genie lamp. is each each island deserted deserted\n",
      "Original:  “I want to go home,” says the first friend. The genie grants her wish.\n",
      "Paraphrased:  friend. friend. to first first grants the says wish. “I wish. grants home,” home,”\n",
      "Original:  “I want to go home, too,” says the second friend. And the genie sends her back home.\n",
      "Paraphrased:  friend. genie home. genie says to back sends genie “I go genie the back And home, to\n",
      "Original:  “I’m lonely,” says the third friend. “I sure wish my friends were back here.\"\n",
      "Paraphrased:  “I’m lonely,” third wish “I friends says here.\" says the friend. my here.\" sure\n"
     ]
    }
   ],
   "source": [
    "joke2 = ['Three friends stranded on a deserted island find a magic lamp. Inside it is a genie who agrees to grant each friend one wish.',\n",
    "         ' “I want to go home,” says the first friend. The genie grants her wish.',\n",
    "         ' “I want to go home, too,” says the second friend. And the genie sends her back home.',\n",
    "         ' “I’m lonely,” says the third friend. “I sure wish my friends were back here.\"']\n",
    "paraphrase(joke2)"
   ]
  },
  {
   "cell_type": "code",
   "execution_count": null,
   "metadata": {
    "colab": {
     "base_uri": "https://localhost:8080/"
    },
    "id": "hNpq8limw3Hw",
    "outputId": "6f5f58fc-1e78-4751-ae1a-aa90b22ee0bb"
   },
   "outputs": [
    {
     "name": "stdout",
     "output_type": "stream",
     "text": [
      "Original: A man walks into a library, approaches the librarian and says, “I’ll have a cheeseburger and fries, please.”\n",
      "Paraphrased:  and says, a says, a librarian a “I’ll a man a a A library, library, please.” have a\n",
      "Original: The librarian says, “Sir, you know you’re in a library, right?”\n",
      "Paraphrased:  library, right?” librarian a The you library, library, The know in\n",
      "Original: “Sorry,” he whispers. “I’ll have a cheeseburger and fries, please.”\n",
      "Paraphrased:  he he whispers. “I’ll a please.” a fries, have whispers.\n"
     ]
    }
   ],
   "source": [
    "joke3=['A man walks into a library, approaches the librarian and says, “I’ll have a cheeseburger and fries, please.”',\n",
    "       'The librarian says, “Sir, you know you’re in a library, right?”',\n",
    "       '“Sorry,” he whispers. “I’ll have a cheeseburger and fries, please.”']\n",
    "paraphrase(joke3)"
   ]
  }
 ],
 "metadata": {
  "colab": {
   "collapsed_sections": [],
   "machine_shape": "hm",
   "name": "baseline model.ipynb",
   "provenance": []
  },
  "kernelspec": {
   "display_name": "Python 3",
   "language": "python",
   "name": "python3"
  },
  "language_info": {
   "codemirror_mode": {
    "name": "ipython",
    "version": 3
   },
   "file_extension": ".py",
   "mimetype": "text/x-python",
   "name": "python",
   "nbconvert_exporter": "python",
   "pygments_lexer": "ipython3",
   "version": "3.8.3"
  }
 },
 "nbformat": 4,
 "nbformat_minor": 1
}
